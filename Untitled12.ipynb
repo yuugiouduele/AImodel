{
 "cells": [
  {
   "cell_type": "code",
   "execution_count": 3,
   "id": "7ab56732-1435-4ec3-acf2-4b8a99fff044",
   "metadata": {},
   "outputs": [
    {
     "name": "stdout",
     "output_type": "stream",
     "text": [
      "Collecting pyocrNote: you may need to restart the kernel to use updated packages.\n",
      "\n",
      "  Downloading pyocr-0.8.5-py3-none-any.whl.metadata (9.2 kB)\n",
      "Requirement already satisfied: Pillow in c:\\users\\workt\\anaconda3\\lib\\site-packages (from pyocr) (10.3.0)\n",
      "Downloading pyocr-0.8.5-py3-none-any.whl (40 kB)\n",
      "   ---------------------------------------- 0.0/40.0 kB ? eta -:--:--\n",
      "   -------------------- ------------------- 20.5/40.0 kB 682.7 kB/s eta 0:00:01\n",
      "   ---------------------------------------- 40.0/40.0 kB 647.0 kB/s eta 0:00:00\n",
      "Installing collected packages: pyocr\n",
      "Successfully installed pyocr-0.8.5\n"
     ]
    }
   ],
   "source": [
    "pip install pyocr\n"
   ]
  },
  {
   "cell_type": "code",
   "execution_count": 31,
   "id": "823b66a0-61b8-41cb-b7d0-7f8d8a306137",
   "metadata": {},
   "outputs": [
    {
     "name": "stdout",
     "output_type": "stream",
     "text": [
      "nothing OCR tool found\n"
     ]
    }
   ],
   "source": [
    "import pyocr\n",
    "from PIL import Image\n",
    "\n",
    "tools = pyocr.get_available_tools()\n",
    "if len(tools)==0:\n",
    "    print(\"nothing OCR tool found\")"
   ]
  },
  {
   "cell_type": "code",
   "execution_count": null,
   "id": "54567c37-64ea-45d1-8005-15cb289e2cc3",
   "metadata": {},
   "outputs": [],
   "source": []
  }
 ],
 "metadata": {
  "kernelspec": {
   "display_name": "Python 3 (ipykernel)",
   "language": "python",
   "name": "python3"
  },
  "language_info": {
   "codemirror_mode": {
    "name": "ipython",
    "version": 3
   },
   "file_extension": ".py",
   "mimetype": "text/x-python",
   "name": "python",
   "nbconvert_exporter": "python",
   "pygments_lexer": "ipython3",
   "version": "3.12.4"
  }
 },
 "nbformat": 4,
 "nbformat_minor": 5
}
