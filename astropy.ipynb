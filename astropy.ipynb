version https://git-lfs.github.com/spec/v1
oid sha256:ead48af515b7baf321c82acb41ad8e3b04c23df7a7b23cb930f68c4f92810475
size 1235879
