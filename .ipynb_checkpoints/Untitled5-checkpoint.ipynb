version https://git-lfs.github.com/spec/v1
oid sha256:d5c8c836f79d6c9edd995f78963c8a10f5570533c833ded407bcc14f6eac0e92
size 8655
