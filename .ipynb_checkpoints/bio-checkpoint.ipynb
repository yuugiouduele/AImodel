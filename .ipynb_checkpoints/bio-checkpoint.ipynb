version https://git-lfs.github.com/spec/v1
oid sha256:b091c3d25753cb1b584919e8aeaef366afcb47dba9c10f5afc6991ed62041a31
size 194753
