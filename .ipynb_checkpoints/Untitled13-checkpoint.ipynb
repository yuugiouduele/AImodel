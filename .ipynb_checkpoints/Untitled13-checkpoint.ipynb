version https://git-lfs.github.com/spec/v1
oid sha256:690b26c7cab04186116645d0f9f85ac9e217a49432864ac8eec97aa4d2bc284f
size 2573
