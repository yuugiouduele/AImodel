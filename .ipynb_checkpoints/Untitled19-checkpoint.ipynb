version https://git-lfs.github.com/spec/v1
oid sha256:cd0970706a2d6a2eafd77dbe8e780b1ff10d5aca27f99ade1e1c295b7a716586
size 17671
