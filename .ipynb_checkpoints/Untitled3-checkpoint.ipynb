version https://git-lfs.github.com/spec/v1
oid sha256:c16694bb49dfd81eb041cb5ceac26a85a8c5e54c620107b054d03caa34e8e42c
size 800
