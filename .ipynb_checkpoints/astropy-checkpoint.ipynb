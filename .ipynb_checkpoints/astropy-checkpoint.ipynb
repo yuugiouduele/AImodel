version https://git-lfs.github.com/spec/v1
oid sha256:5d944cea4939b4ff1db60d562f8f6c277754b146340e8c7f4e24fc9afef3f212
size 1234044
