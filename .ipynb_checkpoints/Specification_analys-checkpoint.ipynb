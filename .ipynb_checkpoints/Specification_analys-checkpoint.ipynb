version https://git-lfs.github.com/spec/v1
oid sha256:3f184b5ac19fd0a320ac99f50f0398f6fad069b98eeceaf1b5af7d300b9ea80c
size 121612
