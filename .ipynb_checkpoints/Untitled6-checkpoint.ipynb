version https://git-lfs.github.com/spec/v1
oid sha256:5e670bc55175dd87b994acf9474e35a219f359dbee28d68e8d4c3b2d8e0fd671
size 286952
