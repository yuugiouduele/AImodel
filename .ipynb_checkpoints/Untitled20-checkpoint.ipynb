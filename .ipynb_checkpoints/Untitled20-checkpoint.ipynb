version https://git-lfs.github.com/spec/v1
oid sha256:ec38238a9eb9e1a21b0dfe2f2eaa09f0c08ab2c4f1832b0e20230d7dc5b94a6d
size 22037
