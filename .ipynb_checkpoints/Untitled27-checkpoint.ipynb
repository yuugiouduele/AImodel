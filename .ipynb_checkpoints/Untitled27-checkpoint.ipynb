version https://git-lfs.github.com/spec/v1
oid sha256:ee39c068d25b2b03107cbcee209db9f858d969df7b6a3eec56ee34ad86fd4848
size 9106
