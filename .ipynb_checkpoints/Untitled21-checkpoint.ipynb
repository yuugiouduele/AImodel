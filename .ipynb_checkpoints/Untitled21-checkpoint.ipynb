version https://git-lfs.github.com/spec/v1
oid sha256:caf326561203cb952563d3138d9d37359b93efd1ee4a3f0ce484c17e4212209e
size 3043
