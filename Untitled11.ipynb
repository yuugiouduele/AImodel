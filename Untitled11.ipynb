version https://git-lfs.github.com/spec/v1
oid sha256:a89250e7f1a62d4ee7adccebb741331c2a5b0663b340888df20275e869f9c9d3
size 8815
