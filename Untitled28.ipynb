{
 "cells": [
  {
   "cell_type": "code",
   "execution_count": 10,
   "id": "1a791425-be55-4f0f-b6e9-13094ec07cd5",
   "metadata": {},
   "outputs": [
    {
     "name": "stdout",
     "output_type": "stream",
     "text": [
      "desserts\n"
     ]
    }
   ],
   "source": [
    "data='stressed'\n",
    "input=data[len(data)::-1]\n",
    "print(input)"
   ]
  },
  {
   "cell_type": "code",
   "execution_count": 448,
   "id": "84eda668-7ba4-4eeb-a580-2d4b94986c2a",
   "metadata": {},
   "outputs": [
    {
     "name": "stdout",
     "output_type": "stream",
     "text": [
      "['Ia', 'am', 'ma', 'an', 'nN', 'NL', 'LP', 'Pe', 'er', 'r']\n"
     ]
    }
   ],
   "source": [
    "def bi_gram(moji):\n",
    "    d=moji.replace(' ','')\n",
    "    m=[d[i:i+2]for i in range(len(d))]\n",
    "    return m \n",
    "\n",
    "print(bi_gram('I am an NLPer'))"
   ]
  },
  {
   "cell_type": "code",
   "execution_count": 566,
   "id": "09f06edc-3bd8-4ce2-a235-9b1ce02bcd2f",
   "metadata": {},
   "outputs": [
    {
     "name": "stdout",
     "output_type": "stream",
     "text": [
      "['se'] []\n"
     ]
    }
   ],
   "source": [
    "li=['paraparaparadise','paragraph']\n",
    "m=[bi_gram(l) for l in li]\n",
    "d=[g for g in m[0] if g[:]=='se']\n",
    "df=[g for g in m[1] if g[:]=='se']\n",
    "print(d,df)"
   ]
  },
  {
   "cell_type": "code",
   "execution_count": 776,
   "id": "aa81205e-d0a2-4a91-b545-63e266d5eb23",
   "metadata": {},
   "outputs": [
    {
     "name": "stdout",
     "output_type": "stream",
     "text": [
      "Writing default config to: C:\\Users\\workt\\.jupyter\\jupyter_notebook_config.py\n"
     ]
    }
   ],
   "source": [
    "!jupyter notebook --generate-config\n"
   ]
  },
  {
   "cell_type": "code",
   "execution_count": null,
   "id": "38907b17-b117-45dc-bc54-52d144a8de7a",
   "metadata": {},
   "outputs": [],
   "source": [
    "import MeCab as me\n",
    "import pandas as pd\n",
    "import requests as req\n",
    "import re\n",
    "\n",
    "def mecb(text):\n",
    "    # res=req.get('https://nlp100.github.io/data/neko.txt')\n",
    "    # pattern=r'[\\a-z]'\n",
    "    # result=re.sub(pattern,'',res.text).replace('\\u3000','')\n",
    "    mecab=me.Tagger()\n",
    "    ps=mecab.parse(text)\n",
    "    node=mecab.parseToNode(text)\n",
    "    while node:\n",
    "        return node.feature\n",
    "print(mecb('吾輩は最強の二人である。なんでかっくかかっかかっかかｖぬｆｂｖｄｂふぃあｄｂヴぃあｄｂｖｈないび'))"
   ]
  },
  {
   "cell_type": "code",
   "execution_count": 2,
   "id": "6414c3fe-d038-4163-a3f2-029bbd3839b1",
   "metadata": {},
   "outputs": [],
   "source": [
    "with open('bug.オレに殺されるべきなんだー!!','w',encoding='utf-8') as f:\n",
    "    f.write('聖子')"
   ]
  },
  {
   "cell_type": "code",
   "execution_count": 2,
   "id": "1dc034e8-d2dc-41d1-9ff7-501b0beae455",
   "metadata": {},
   "outputs": [
    {
     "name": "stderr",
     "output_type": "stream",
     "text": [
      "'mecab' は、内部コマンドまたは外部コマンド、\n",
      "操作可能なプログラムまたはバッチ ファイルとして認識されていません。\n"
     ]
    }
   ],
   "source": [
    "!mecab -D"
   ]
  },
  {
   "cell_type": "code",
   "execution_count": null,
   "id": "16d42810-cfad-4b3c-8931-d8e4f2f2f008",
   "metadata": {},
   "outputs": [],
   "source": []
  }
 ],
 "metadata": {
  "kernelspec": {
   "display_name": "Python 3 (ipykernel)",
   "language": "python",
   "name": "python3"
  },
  "language_info": {
   "codemirror_mode": {
    "name": "ipython",
    "version": 3
   },
   "file_extension": ".py",
   "mimetype": "text/x-python",
   "name": "python",
   "nbconvert_exporter": "python",
   "pygments_lexer": "ipython3",
   "version": "3.11.10"
  }
 },
 "nbformat": 4,
 "nbformat_minor": 5
}
