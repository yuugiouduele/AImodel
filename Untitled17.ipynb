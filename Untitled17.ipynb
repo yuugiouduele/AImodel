{
 "cells": [
  {
   "cell_type": "code",
   "execution_count": null,
   "id": "4c76af24-277e-4914-bbf5-18e37ad79143",
   "metadata": {},
   "outputs": [],
   "source": [
    "class simpleattenstion:\n",
    "    def __init__(self,depth:int,*args,**kwards):\n",
    "        super().__init__(*args,**kwards)\n",
    "        self.depth=depth\n",
    "\n",
    "        self.q_dense_layer=tf.keras.layers.Dense(depth,use_bias=False,name='q_dense_layer')\n",
    "        self.k_dense_layer=tf.keras.layers.Dense(depth,use_bias=False,name='k_dense_layer')\n",
    "        self.v_dense_layer=tf.keras.layers.Dense(depth,use_bias=False,name='v_dense_layer')\n",
    "        self.output_desnse_layer=tf.keras.layers.Dense(depth,use_bias=False,name='output_dense_layer')\n",
    "\n",
    "    def call(self,input:tf.Tensor,memory:tf.Tensor)->tf.Tensor:\n",
    "        q=self.q_dense_layer(input)\n",
    "        k=self.k_dense_layer(memory)\n",
    "        v=self.v_dense_layer(memory)\n",
    "\n",
    "        logit=tf.matmul(q,k,transpose_b=True)\n",
    "\n",
    "        attention_weight=tf.nn.softmax(logit,name='attention_weight')\n",
    "\n",
    "        attention_output=tf.matmul(attention_weight,v)\n",
    "        return self.output_dense_layer(attention_output)"
   ]
  }
 ],
 "metadata": {
  "kernelspec": {
   "display_name": "Python 3 (ipykernel)",
   "language": "python",
   "name": "python3"
  },
  "language_info": {
   "codemirror_mode": {
    "name": "ipython",
    "version": 3
   },
   "file_extension": ".py",
   "mimetype": "text/x-python",
   "name": "python",
   "nbconvert_exporter": "python",
   "pygments_lexer": "ipython3",
   "version": "3.11.10"
  }
 },
 "nbformat": 4,
 "nbformat_minor": 5
}
