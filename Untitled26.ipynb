{
 "cells": [
  {
   "cell_type": "code",
   "execution_count": 2,
   "id": "c6864ef6-b2e9-45f7-b417-5217d4e9eb9a",
   "metadata": {},
   "outputs": [
    {
     "name": "stdout",
     "output_type": "stream",
     "text": [
      "Collecting psycopg2-binaryNote: you may need to restart the kernel to use updated packages.\n",
      "\n",
      "  Downloading psycopg2_binary-2.9.10-cp311-cp311-win_amd64.whl.metadata (5.0 kB)\n",
      "Requirement already satisfied: requests in c:\\users\\workt\\anaconda3\\envs\\gpt\\lib\\site-packages (2.32.3)\n",
      "Requirement already satisfied: charset-normalizer<4,>=2 in c:\\users\\workt\\anaconda3\\envs\\gpt\\lib\\site-packages (from requests) (3.4.0)\n",
      "Requirement already satisfied: idna<4,>=2.5 in c:\\users\\workt\\anaconda3\\envs\\gpt\\lib\\site-packages (from requests) (3.10)\n",
      "Requirement already satisfied: urllib3<3,>=1.21.1 in c:\\users\\workt\\anaconda3\\envs\\gpt\\lib\\site-packages (from requests) (2.2.3)\n",
      "Requirement already satisfied: certifi>=2017.4.17 in c:\\users\\workt\\anaconda3\\envs\\gpt\\lib\\site-packages (from requests) (2024.8.30)\n",
      "Downloading psycopg2_binary-2.9.10-cp311-cp311-win_amd64.whl (1.2 MB)\n",
      "   ---------------------------------------- 0.0/1.2 MB ? eta -:--:--\n",
      "   ---------------------------------------- 1.2/1.2 MB 19.2 MB/s eta 0:00:00\n",
      "Installing collected packages: psycopg2-binary\n",
      "Successfully installed psycopg2-binary-2.9.10\n"
     ]
    }
   ],
   "source": [
    "pip install psycopg2-binary requests\n"
   ]
  },
  {
   "cell_type": "code",
   "execution_count": 4,
   "id": "6378ea93-cbf3-4e8b-a0ed-a28ba00e8374",
   "metadata": {},
   "outputs": [
    {
     "ename": "UnicodeDecodeError",
     "evalue": "'utf-8' codec can't decode byte 0x83 in position 69: invalid start byte",
     "output_type": "error",
     "traceback": [
      "\u001b[1;31m---------------------------------------------------------------------------\u001b[0m",
      "\u001b[1;31mUnicodeDecodeError\u001b[0m                        Traceback (most recent call last)",
      "Cell \u001b[1;32mIn[4], line 19\u001b[0m\n\u001b[0;32m     16\u001b[0m QUERY \u001b[38;5;241m=\u001b[39m \u001b[38;5;124m'\u001b[39m\u001b[38;5;124mpython\u001b[39m\u001b[38;5;124m'\u001b[39m\n\u001b[0;32m     18\u001b[0m \u001b[38;5;66;03m# PostgreSQLに接続\u001b[39;00m\n\u001b[1;32m---> 19\u001b[0m conn \u001b[38;5;241m=\u001b[39m \u001b[43mpsycopg2\u001b[49m\u001b[38;5;241;43m.\u001b[39;49m\u001b[43mconnect\u001b[49m\u001b[43m(\u001b[49m\n\u001b[0;32m     20\u001b[0m \u001b[43m    \u001b[49m\u001b[43mhost\u001b[49m\u001b[38;5;241;43m=\u001b[39;49m\u001b[43mDB_HOST\u001b[49m\u001b[43m,\u001b[49m\n\u001b[0;32m     21\u001b[0m \u001b[43m    \u001b[49m\u001b[43mport\u001b[49m\u001b[38;5;241;43m=\u001b[39;49m\u001b[43mDB_PORT\u001b[49m\u001b[43m,\u001b[49m\n\u001b[0;32m     22\u001b[0m \u001b[43m    \u001b[49m\u001b[43muser\u001b[49m\u001b[38;5;241;43m=\u001b[39;49m\u001b[43mDB_USER\u001b[49m\u001b[43m,\u001b[49m\n\u001b[0;32m     23\u001b[0m \u001b[43m    \u001b[49m\u001b[43mpassword\u001b[49m\u001b[38;5;241;43m=\u001b[39;49m\u001b[43mDB_PASSWORD\u001b[49m\u001b[43m,\u001b[49m\n\u001b[0;32m     24\u001b[0m \u001b[43m    \u001b[49m\u001b[43mdbname\u001b[49m\u001b[38;5;241;43m=\u001b[39;49m\u001b[43mDB_NAME\u001b[49m\n\u001b[0;32m     25\u001b[0m \u001b[43m)\u001b[49m\n\u001b[0;32m     26\u001b[0m conn\u001b[38;5;241m.\u001b[39mautocommit \u001b[38;5;241m=\u001b[39m \u001b[38;5;28;01mTrue\u001b[39;00m\n\u001b[0;32m     27\u001b[0m cur \u001b[38;5;241m=\u001b[39m conn\u001b[38;5;241m.\u001b[39mcursor()\n",
      "File \u001b[1;32m~\\anaconda3\\envs\\gpt\\Lib\\site-packages\\psycopg2\\__init__.py:122\u001b[0m, in \u001b[0;36mconnect\u001b[1;34m(dsn, connection_factory, cursor_factory, **kwargs)\u001b[0m\n\u001b[0;32m    119\u001b[0m     kwasync[\u001b[38;5;124m'\u001b[39m\u001b[38;5;124masync_\u001b[39m\u001b[38;5;124m'\u001b[39m] \u001b[38;5;241m=\u001b[39m kwargs\u001b[38;5;241m.\u001b[39mpop(\u001b[38;5;124m'\u001b[39m\u001b[38;5;124masync_\u001b[39m\u001b[38;5;124m'\u001b[39m)\n\u001b[0;32m    121\u001b[0m dsn \u001b[38;5;241m=\u001b[39m _ext\u001b[38;5;241m.\u001b[39mmake_dsn(dsn, \u001b[38;5;241m*\u001b[39m\u001b[38;5;241m*\u001b[39mkwargs)\n\u001b[1;32m--> 122\u001b[0m conn \u001b[38;5;241m=\u001b[39m \u001b[43m_connect\u001b[49m\u001b[43m(\u001b[49m\u001b[43mdsn\u001b[49m\u001b[43m,\u001b[49m\u001b[43m \u001b[49m\u001b[43mconnection_factory\u001b[49m\u001b[38;5;241;43m=\u001b[39;49m\u001b[43mconnection_factory\u001b[49m\u001b[43m,\u001b[49m\u001b[43m \u001b[49m\u001b[38;5;241;43m*\u001b[39;49m\u001b[38;5;241;43m*\u001b[39;49m\u001b[43mkwasync\u001b[49m\u001b[43m)\u001b[49m\n\u001b[0;32m    123\u001b[0m \u001b[38;5;28;01mif\u001b[39;00m cursor_factory \u001b[38;5;129;01mis\u001b[39;00m \u001b[38;5;129;01mnot\u001b[39;00m \u001b[38;5;28;01mNone\u001b[39;00m:\n\u001b[0;32m    124\u001b[0m     conn\u001b[38;5;241m.\u001b[39mcursor_factory \u001b[38;5;241m=\u001b[39m cursor_factory\n",
      "\u001b[1;31mUnicodeDecodeError\u001b[0m: 'utf-8' codec can't decode byte 0x83 in position 69: invalid start byte"
     ]
    }
   ],
   "source": [
    "import os\n",
    "import time\n",
    "import psycopg2\n",
    "import requests\n",
    "\n",
    "# PostgreSQL接続設定\n",
    "DB_HOST = os.environ.get('PG_HOST', 'localhost')\n",
    "DB_PORT = os.environ.get('PG_PORT', 5432)\n",
    "DB_USER = os.environ.get('PG_USER', 'postgres')\n",
    "DB_PASSWORD = os.environ.get('PG_PASSWORD', 'your_password')\n",
    "DB_NAME = os.environ.get('PG_DATABASE', 'postgres')\n",
    "\n",
    "# Twitter API認証情報\n",
    "BEARER_TOKEN = 'YOUR_BEARER_TOKEN'\n",
    "SEARCH_URL = 'https://api.twitter.com/2/tweets/search/recent'\n",
    "QUERY = 'python'\n",
    "\n",
    "# PostgreSQLに接続\n",
    "conn = psycopg2.connect(\n",
    "    host=DB_HOST,\n",
    "    port=DB_PORT,\n",
    "    user=DB_USER,\n",
    "    password=DB_PASSWORD,\n",
    "    dbname=DB_NAME\n",
    ")\n",
    "conn.autocommit = True\n",
    "cur = conn.cursor()\n",
    "\n",
    "# テーブル作成\n",
    "cur.execute(\"\"\"\n",
    "CREATE TABLE IF NOT EXISTS tweets (\n",
    "    id TEXT PRIMARY KEY,\n",
    "    text TEXT\n",
    ");\n",
    "\"\"\")\n",
    "\n",
    "def get_tweets(next_token=None):\n",
    "    headers = {\"Authorization\": f\"Bearer {BEARER_TOKEN}\"}\n",
    "    params = {\n",
    "        \"query\": QUERY,\n",
    "        \"max_results\": 100,\n",
    "    }\n",
    "    if next_token:\n",
    "        params[\"next_token\"] = next_token\n",
    "    response = requests.get(SEARCH_URL, headers=headers, params=params)\n",
    "    return response\n",
    "\n",
    "def save_to_db(tweets):\n",
    "    for tweet in tweets:\n",
    "        try:\n",
    "            cur.execute(\"INSERT INTO tweets (id, text) VALUES (%s, %s) ON CONFLICT (id) DO NOTHING\", \n",
    "                        (tweet['id'], tweet['text']))\n",
    "        except Exception as e:\n",
    "            print(f\"DB Error: {e}\")\n",
    "\n",
    "def main():\n",
    "    next_token = None\n",
    "    while True:\n",
    "        res = get_tweets(next_token)\n",
    "        if res.status_code == 429:\n",
    "            reset_time = int(res.headers.get('x-rate-limit-reset', time.time() + 60))\n",
    "            sleep_time = max(reset_time - int(time.time()), 1)\n",
    "            print(f\"Rate limit reached. Sleeping for {sleep_time} seconds.\")\n",
    "            time.sleep(sleep_time)\n",
    "            continue\n",
    "        elif res.status_code != 200:\n",
    "            print(f\"Error: {res.status_code}\")\n",
    "            break\n",
    "\n",
    "        data = res.json()\n",
    "        tweets = data.get('data', [])\n",
    "        save_to_db(tweets)\n",
    "        print(f\"Saved {len(tweets)} tweets.\")\n",
    "\n",
    "        next_token = data.get('meta', {}).get('next_token')\n",
    "        if not next_token:\n",
    "            break\n",
    "\n",
    "        time.sleep(1)  # レートリミット対策\n",
    "\n",
    "if __name__ == \"__main__\":\n",
    "    main()\n",
    "    cur.close()\n",
    "    conn.close()\n"
   ]
  },
  {
   "cell_type": "code",
   "execution_count": null,
   "id": "c556e28c-bf57-4ec0-95ca-338e10b1cdba",
   "metadata": {},
   "outputs": [],
   "source": []
  }
 ],
 "metadata": {
  "kernelspec": {
   "display_name": "Python 3 (ipykernel)",
   "language": "python",
   "name": "python3"
  },
  "language_info": {
   "codemirror_mode": {
    "name": "ipython",
    "version": 3
   },
   "file_extension": ".py",
   "mimetype": "text/x-python",
   "name": "python",
   "nbconvert_exporter": "python",
   "pygments_lexer": "ipython3",
   "version": "3.11.10"
  }
 },
 "nbformat": 4,
 "nbformat_minor": 5
}
