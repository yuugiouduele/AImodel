{
 "cells": [
  {
   "cell_type": "code",
   "execution_count": 1,
   "id": "4dd8dc3b-6ed0-4bd1-85bd-a538a18b241d",
   "metadata": {},
   "outputs": [
    {
     "name": "stdout",
     "output_type": "stream",
     "text": [
      "Requirement already satisfied: markdown in c:\\users\\workt\\anaconda3\\lib\\site-packages (3.4.1)\n",
      "Note: you may need to restart the kernel to use updated packages.\n"
     ]
    }
   ],
   "source": [
    "pip install markdown"
   ]
  },
  {
   "cell_type": "code",
   "execution_count": null,
   "id": "b2665c11-c13c-4883-b942-a705091e6e2d",
   "metadata": {},
   "outputs": [],
   "source": [
    "#<会議体名>\n",
    "##日時\n",
    "yyyy/mm/dd hh:mm〜hh:mm\n",
    "\n",
    "##場所\n",
    "\n",
    "##出席者\n",
    "- \n",
    "\n",
    "##経緯\n",
    "-\n",
    "\n",
    "##開発目的\n",
    "-\n",
    "\n",
    "##期間\n",
    "\n",
    "\n",
    "##予算\n",
    "\n",
    "\n",
    "##議題\n",
    "1. [議題1](#link)\n",
    "2. \n",
    "3. \n",
    "\n",
    "##議事内容\n",
    "###<a name=\"link\"></a>議題1\n",
    "\n",
    "##決定事項\n",
    "- 決定事項1\n",
    "\n",
    "##アクション事項\n",
    "- [ ] アクション\n",
    "\n",
    "##次回\n",
    "yyyy/mm/dd (予定、時間は追って連絡)\n"
   ]
  }
 ],
 "metadata": {
  "kernelspec": {
   "display_name": "Python 3 (ipykernel)",
   "language": "python",
   "name": "python3"
  },
  "language_info": {
   "codemirror_mode": {
    "name": "ipython",
    "version": 3
   },
   "file_extension": ".py",
   "mimetype": "text/x-python",
   "name": "python",
   "nbconvert_exporter": "python",
   "pygments_lexer": "ipython3",
   "version": "3.12.4"
  }
 },
 "nbformat": 4,
 "nbformat_minor": 5
}
