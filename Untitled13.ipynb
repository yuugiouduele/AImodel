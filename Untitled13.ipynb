{
 "cells": [
  {
   "cell_type": "code",
   "execution_count": 15,
   "id": "7dd23205-4241-4ea0-ade5-2eb09fc1bee1",
   "metadata": {},
   "outputs": [
    {
     "name": "stdout",
     "output_type": "stream",
     "text": [
      "Collecting PTL\n",
      "  Downloading ptl-0.3.0-py3-none-any.whl.metadata (12 kB)\n",
      "Downloading ptl-0.3.0-py3-none-any.whl (22 kB)\n",
      "Installing collected packages: PTL\n",
      "Successfully installed PTL-0.3.0\n",
      "Note: you may need to restart the kernel to use updated packages.\n"
     ]
    }
   ],
   "source": [
    "pip install PTL"
   ]
  },
  {
   "cell_type": "code",
   "execution_count": 24,
   "id": "6d41d609-c539-4211-bddf-2cef646ba6e1",
   "metadata": {},
   "outputs": [
    {
     "ename": "ModuleNotFoundError",
     "evalue": "No module named 'PTL'",
     "output_type": "error",
     "traceback": [
      "\u001b[1;31m---------------------------------------------------------------------------\u001b[0m",
      "\u001b[1;31mModuleNotFoundError\u001b[0m                       Traceback (most recent call last)",
      "Cell \u001b[1;32mIn[24], line 2\u001b[0m\n\u001b[0;32m      1\u001b[0m \u001b[38;5;28;01mimport\u001b[39;00m \u001b[38;5;21;01mpyocr\u001b[39;00m\n\u001b[1;32m----> 2\u001b[0m \u001b[38;5;28;01mfrom\u001b[39;00m \u001b[38;5;21;01mPTL\u001b[39;00m \u001b[38;5;28;01mimport\u001b[39;00m Image\n\u001b[0;32m      4\u001b[0m tools\u001b[38;5;241m=\u001b[39mpyocr\u001b[38;5;241m.\u001b[39mget_available_tools()\n\u001b[0;32m      5\u001b[0m \u001b[38;5;28;01mif\u001b[39;00m \u001b[38;5;28mlen\u001b[39m(tools)\u001b[38;5;241m==\u001b[39m\u001b[38;5;241m0\u001b[39m:\n",
      "\u001b[1;31mModuleNotFoundError\u001b[0m: No module named 'PTL'"
     ]
    }
   ],
   "source": [
    "import pyocr\n",
    "from PTL import Image\n",
    "\n",
    "tools=pyocr.get_available_tools()\n",
    "if len(tools)==0:\n",
    "    print(\"nothing tools\")\n",
    "tool=tools[0]\n",
    "print(tool.get_name())\n",
    "image_path=input('ドキュメント.png')\n",
    "image=Image.open(image_path)\n",
    "print(image)\n",
    "image"
   ]
  }
 ],
 "metadata": {
  "kernelspec": {
   "display_name": "Python 3 (ipykernel)",
   "language": "python",
   "name": "python3"
  },
  "language_info": {
   "codemirror_mode": {
    "name": "ipython",
    "version": 3
   },
   "file_extension": ".py",
   "mimetype": "text/x-python",
   "name": "python",
   "nbconvert_exporter": "python",
   "pygments_lexer": "ipython3",
   "version": "3.12.4"
  }
 },
 "nbformat": 4,
 "nbformat_minor": 5
}
