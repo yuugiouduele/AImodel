{
 "cells": [
  {
   "cell_type": "code",
   "execution_count": 46,
   "id": "6944a1c6-cf9b-42ba-b221-f5f361c195f8",
   "metadata": {},
   "outputs": [
    {
     "name": "stdout",
     "output_type": "stream",
     "text": [
      "(2, 2)\n"
     ]
    }
   ],
   "source": [
    "import numpy as np \n",
    "\n",
    "n = np.array([['juju','tutu'],['ryu','jugu']])\n",
    "print(n.shape)"
   ]
  },
  {
   "cell_type": "code",
   "execution_count": 70,
   "id": "e740c630-3312-4e16-a846-f2d4a853f7f6",
   "metadata": {},
   "outputs": [
    {
     "name": "stdout",
     "output_type": "stream",
     "text": [
      "{'0': [['juju', 'tutu'], ['ryu', 'jugu']], '1': [['juju', 'tutu'], ['ryu', 'jugu']], '2': [['juju', 'tutu'], ['ryu', 'jugu']], '3': [['juju', 'tutu'], ['ryu', 'jugu']], '4': [['juju', 'tutu'], ['ryu', 'jugu']], '5': [['juju', 'tutu'], ['ryu', 'jugu']], '6': [['juju', 'tutu'], ['ryu', 'jugu']], '7': [['juju', 'tutu'], ['ryu', 'jugu']], '8': [['juju', 'tutu'], ['ryu', 'jugu']], '9': [['juju', 'tutu'], ['ryu', 'jugu']]}\n"
     ]
    }
   ],
   "source": [
    "map_key={}\n",
    "\n",
    "for i in range(10):\n",
    "    map_key[str(i)]=[['juju','tutu'],['ryu','jugu']]\n",
    "\n",
    "print(map_key)"
   ]
  },
  {
   "cell_type": "code",
   "execution_count": null,
   "id": "1063afb0-6c01-4281-a74f-001e881cf915",
   "metadata": {},
   "outputs": [],
   "source": []
  }
 ],
 "metadata": {
  "kernelspec": {
   "display_name": "Python 3 (ipykernel)",
   "language": "python",
   "name": "python3"
  },
  "language_info": {
   "codemirror_mode": {
    "name": "ipython",
    "version": 3
   },
   "file_extension": ".py",
   "mimetype": "text/x-python",
   "name": "python",
   "nbconvert_exporter": "python",
   "pygments_lexer": "ipython3",
   "version": "3.11.10"
  }
 },
 "nbformat": 4,
 "nbformat_minor": 5
}
